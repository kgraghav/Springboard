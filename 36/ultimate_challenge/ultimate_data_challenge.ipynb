{
 "cells": [
  {
   "cell_type": "code",
   "execution_count": 1,
   "metadata": {},
   "outputs": [],
   "source": [
    "import math as mth\n",
    "import pandas as pd\n",
    "import numpy as np\n",
    "import matplotlib.pyplot as plt\n",
    "import seaborn as sns\n",
    "import sklearn\n",
    "from sklearn.impute import SimpleImputer\n",
    "from sklearn.compose import ColumnTransformer\n",
    "from sklearn.pipeline import Pipeline,make_pipeline\n",
    "from sklearn.linear_model import LinearRegression,LogisticRegression\n",
    "from sklearn.neighbors import KNeighborsClassifier\n",
    "from sklearn.ensemble import RandomForestClassifier,RandomForestRegressor\n",
    "from sklearn.metrics import r2_score,mean_squared_error, mean_absolute_error, mean_absolute_percentage_error, accuracy_score,classification_report, roc_curve,auc\n",
    "from sklearn.preprocessing import MinMaxScaler, StandardScaler, Normalizer,FunctionTransformer\n",
    "from sklearn.decomposition import PCA\n",
    "from sklearn.model_selection import train_test_split,TimeSeriesSplit,GridSearchCV\n",
    "from xgboost import XGBClassifier,XGBRegressor\n",
    "import tensorflow as tf\n",
    "import scipy\n",
    "from scipy.stats import linregress\n",
    "from scipy.stats import pearsonr\n",
    "import statsmodels\n",
    "from statsmodels.tsa.stattools import acf\n",
    "from datetime import datetime, timedelta\n",
    "import random\n",
    "import sys\n",
    "import os\n",
    "from io import StringIO\n",
    "import json # library to handle JSON files\n",
    "from matplotlib import cm,colors\n",
    "from matplotlib.colors import Normalize\n",
    "from geopy.geocoders import Nominatim # convert an place into latitude and longitude values\n",
    "import folium # map rendering library\n",
    "from bs4 import BeautifulSoup\n",
    "import camelot\n",
    "import requests\n",
    "from IPython import get_ipython"
   ]
  },
  {
   "cell_type": "code",
   "execution_count": 2,
   "metadata": {},
   "outputs": [],
   "source": [
    "import warnings\n",
    "\n",
    "# Customize how warnings are displayed\n",
    "warnings.filterwarnings('always', module='.*')\n",
    "warnings.formatwarning = lambda message, category, filename, lineno, line=None: f'{category.__name__}: {message}\\n'"
   ]
  },
  {
   "cell_type": "markdown",
   "metadata": {},
   "source": [
    "General Classes and Functions"
   ]
  },
  {
   "cell_type": "code",
   "execution_count": 3,
   "metadata": {},
   "outputs": [],
   "source": [
    "# Class to create Plots grid\n",
    "\n",
    "from itertools import product,cycle,combinations\n",
    "from scipy.stats import pearsonr\n",
    "import numpy as np\n",
    "import seaborn as sns\n",
    "import matplotlib.pyplot as plt\n",
    "\n",
    "class Plotsgrid:\n",
    "\n",
    "    \"\"\" Creates a nxn grid of plots for an input df. Shows blank for grid values exceeding number of columns of df\"\"\"\n",
    "\n",
    "\n",
    "    def __init__(self,df):\n",
    "        self.df=df \n",
    "\n",
    "    def figure_params(self,size_fac1,size_fac2):\n",
    "        df=self.df\n",
    "        n_data_cols=len(df.columns)\n",
    "        self.n_data_cols=n_data_cols \n",
    "\n",
    "        n_cols=int(n_data_cols**.5)\n",
    "        n_rows=0\n",
    "        while n_rows*n_cols<n_data_cols:\n",
    "            n_rows+=1\n",
    "        # Create the figure and axes grid\n",
    "        fig, axs = plt.subplots(nrows=n_rows, ncols=n_cols,figsize=(int(size_fac1*n_data_cols),int(size_fac2*n_rows)))\n",
    "        \n",
    "        # Flatten the axs array for easier iteration\n",
    "        if n_rows == 1 and n_cols == 1:  # Only one subplot\n",
    "            self.axs = [axs]\n",
    "        else:\n",
    "            self.axs = axs.flatten()\n",
    "\n",
    "    # Loop through the axes and Hist plot\n",
    "    def histplots(self,bins=-1,density=False):\n",
    "        # Initialize figure \n",
    "        self.figure_params(1,2)\n",
    "        # Create a cycler to iterate over the DataFrame columns\n",
    "        cycler = cycle(self.df.columns)\n",
    "        for i,ax in enumerate(self.axs):\n",
    "            if i==self.n_data_cols:\n",
    "                ax.set_visible(False)  # Hide any extra subplots if there are more subplots than columns\n",
    "                break\n",
    "            col = next(cycler)  # Get the next column name\n",
    "            if bins==-1:\n",
    "                if density:\n",
    "                    sns.histplot(data=self.df, x=col, ax=ax,stat='density')  # Plot the histogram on the current axis\n",
    "                else:\n",
    "                    sns.histplot(data=self.df, x=col, ax=ax)  # Plot the histogram on the current axis\n",
    "            else:\n",
    "                if density:\n",
    "                    sns.histplot(data=self.df, x=col, ax=ax,bins=bins,stat='density')  # Plot the histogram on the current axis\n",
    "                else:\n",
    "                    sns.histplot(data=self.df, x=col, ax=ax,bins=bins)  # Plot the histogram on the current axis\n",
    "        plt.tight_layout()\n",
    "        plt.show()\n",
    "\n",
    "    # Loop through the axes and Box plot\n",
    "    def boxplots(self):\n",
    "\n",
    "        # Coerce df to numeric:\n",
    "        df=self.df.apply(pd.to_numeric,errors='coerce').dropna(how='all',axis=1)\n",
    "        \n",
    "        # Initialize figure \n",
    "        self.figure_params(1,2)\n",
    "        # Create a cycler to iterate over the DataFrame columns\n",
    "        cycler = cycle(df.columns)\n",
    "        for i,ax in enumerate(self.axs):\n",
    "            try:\n",
    "                if i==self.n_data_cols:\n",
    "                    ax.set_visible(False)  # Hide any extra subplots if there are more subplots than columns\n",
    "                    break\n",
    "                col = next(cycler)  # Get the next column name\n",
    "                sns.boxplot(data=df, y=col, ax=ax)  # Plot the boxplot on the current axis\n",
    "            except Exception as E:\n",
    "                print(E)\n",
    "        plt.tight_layout()\n",
    "        plt.show()\n",
    "\n",
    "    # Loop through the axes and Line plot\n",
    "    def lineplots(self):\n",
    "        # Initialize figure \n",
    "        self.figure_params(5,5)\n",
    "        # Create a cycler to iterate over the DataFrame columns\n",
    "        cycler = cycle(self.df.columns)\n",
    "        for i,ax in enumerate(self.axs):\n",
    "            if i==self.n_data_cols:\n",
    "                ax.set_visible(False)  # Hide any extra subplots if there are more subplots than columns\n",
    "                break\n",
    "            col = next(cycler)  # Get the next column name\n",
    "            print(col)\n",
    "            sns.lineplot(data=self.df,x=self.df.index,y=col, ax=ax)  # Plot the Line on the current axis\n",
    "        plt.tight_layout()\n",
    "        plt.show()\n",
    "\n",
    "    def scatterplots(self):\n",
    "\n",
    "        # Coerce df to numeric:\n",
    "        df=self.df.apply(pd.to_numeric,errors='coerce').dropna(how='all',axis=1)\n",
    "        \n",
    "        # Get all numeric combinations\n",
    "        col_combinations = list(combinations(df.columns, 2))\n",
    "        num_combs = len(col_combinations)\n",
    "        \n",
    "        # Calculate grid size based on the number of combinations\n",
    "        n_cols = int(np.ceil(np.sqrt(num_combs)))\n",
    "        n_rows = int(np.ceil(num_combs / n_cols))\n",
    "\n",
    "        # Create the figure and axes grid\n",
    "        fig, axs = plt.subplots(nrows=n_rows, ncols=n_cols, figsize=(int(2*n_cols),int(2.5*n_rows)))\n",
    "        \n",
    "        plt.suptitle('Pairwise Scatter with higher correlations shown brighter')\n",
    "        axs = axs.flatten()  # Flatten the axes array for easier iteration\n",
    "\n",
    "        # Iterate through each combination and plot scatterplots\n",
    "        for i, (col_x, col_y) in enumerate(col_combinations):\n",
    "            ax = axs[i]\n",
    "\n",
    "            df_x_y=df[[col_x,col_y]].dropna()\n",
    "\n",
    "            x = df_x_y[col_x]\n",
    "            y = df_x_y[col_y]\n",
    "\n",
    "            # Calculate Pearson correlation and p-value\n",
    "            if len(x) > 1 and len(y) > 1:  # Ensure there are enough data points\n",
    "                corr, p_value = pearsonr(x, y)\n",
    "                corr_array=np.array([corr]*x.shape[0])\n",
    "                # Scatter plot with colored points\n",
    "                sns.scatterplot(x=x, y=y, ax=ax,hue=corr_array, palette='coolwarm',hue_norm=(-1,1),legend=False)\n",
    "\n",
    "                # Add correlation coefficient and p-value as the legend\n",
    "                ax.text(0.05, 0.95, f\"r = {corr:.2f}\\np = {p_value:.2e}\", \n",
    "                        transform=ax.transAxes, fontsize=7, verticalalignment='top',\n",
    "                        bbox=dict(boxstyle=\"round,pad=0.3\", facecolor=\"lightgray\", edgecolor=\"black\"))\n",
    "                \n",
    "                # Set plot labels\n",
    "                ax.set_xlabel(col_x)\n",
    "                ax.set_ylabel(col_y)\n",
    "\n",
    "        # Hide any extra subplots\n",
    "        for j in range(i + 1, len(axs)):\n",
    "            axs[j].set_visible(False)\n",
    "        plt.tight_layout()\n",
    "        plt.show()"
   ]
  },
  {
   "cell_type": "code",
   "execution_count": 4,
   "metadata": {},
   "outputs": [],
   "source": [
    "def mape(y_true, y_pred):\n",
    "    \"\"\"Compute the mean absolute percentage error (MAPE).\"\"\"\n",
    "    y_true, y_pred = np.array(y_true), np.array(y_pred)\n",
    "    return np.mean(np.abs((y_true - y_pred) / y_true)) * 100"
   ]
  },
  {
   "cell_type": "code",
   "execution_count": 5,
   "metadata": {},
   "outputs": [],
   "source": [
    "def basic_eda(df):\n",
    "    # Check if 'df' is a DataFrame\n",
    "    if isinstance(df, pd.DataFrame):\n",
    "        pass\n",
    "    else:\n",
    "        df=pd.DataFrame(df)\n",
    "    cols=df.columns.tolist()\n",
    "    print('\\nCOLUMNS LIST: ')\n",
    "    print(cols)\n",
    "    print('\\nFIRST FEW: ')\n",
    "    print(df.head(3))\n",
    "    print('\\nLAST FEW: ')\n",
    "    print(df.tail(3))\n",
    "    print('\\nINFO: ')\n",
    "    print(df.info())\n",
    "    print('\\nDESCRIPTION: ')\n",
    "    print(df.describe())\n",
    "    return cols"
   ]
  },
  {
   "cell_type": "markdown",
   "metadata": {},
   "source": [
    "## Data Extraction"
   ]
  },
  {
   "cell_type": "code",
   "execution_count": 6,
   "metadata": {},
   "outputs": [],
   "source": [
    "df_logins=pd.read_json('logins.json')\n",
    "df_data=pd.read_json('ultimate_data_challenge.json')"
   ]
  },
  {
   "cell_type": "markdown",
   "metadata": {},
   "source": [
    "## Part 1: Exploratory Data Analysis (EDA)"
   ]
  },
  {
   "cell_type": "code",
   "execution_count": 7,
   "metadata": {},
   "outputs": [
    {
     "name": "stdout",
     "output_type": "stream",
     "text": [
      "\n",
      "COLUMNS LIST: \n",
      "['login_time']\n",
      "\n",
      "FIRST FEW: \n",
      "           login_time\n",
      "0 1970-01-01 20:13:18\n",
      "1 1970-01-01 20:16:10\n",
      "2 1970-01-01 20:16:37\n",
      "\n",
      "LAST FEW: \n",
      "               login_time\n",
      "93139 1970-04-13 18:54:02\n",
      "93140 1970-04-13 18:57:38\n",
      "93141 1970-04-13 18:54:23\n",
      "\n",
      "INFO: \n",
      "<class 'pandas.core.frame.DataFrame'>\n",
      "RangeIndex: 93142 entries, 0 to 93141\n",
      "Data columns (total 1 columns):\n",
      " #   Column      Non-Null Count  Dtype         \n",
      "---  ------      --------------  -----         \n",
      " 0   login_time  93142 non-null  datetime64[ns]\n",
      "dtypes: datetime64[ns](1)\n",
      "memory usage: 727.8 KB\n",
      "None\n",
      "\n",
      "DESCRIPTION: \n",
      "                          login_time\n",
      "count                          93142\n",
      "mean   1970-02-26 19:09:39.779648278\n",
      "min              1970-01-01 20:12:16\n",
      "25%       1970-02-04 10:37:19.750000\n",
      "50%       1970-03-01 06:33:05.500000\n",
      "75%       1970-03-22 04:01:10.750000\n",
      "max              1970-04-13 18:57:38\n"
     ]
    }
   ],
   "source": [
    "logins_cols=basic_eda(df_logins)"
   ]
  },
  {
   "cell_type": "markdown",
   "metadata": {},
   "source": [
    "<li> the logins info is imported into a dataframe of one column called 'login_time' with 93142 values\n",
    "<li> 'login_time' contains all non-null values of type datetime64[ns]\n",
    "<li> The mean, percentiles, std and max are timestamps \n",
    "<li><b><i> Data Issue: The timestamps are not ordered chronologically </i></b>"
   ]
  },
  {
   "cell_type": "code",
   "execution_count": 8,
   "metadata": {},
   "outputs": [],
   "source": [
    "# Create a dummy column called 'num'\n",
    "df_logins['num']=1\n",
    "# Ensure datetime format for login_time\n",
    "df_logins['login_time'] = pd.to_datetime(df_logins['login_time'])  # Ensure datetime format\n",
    "# Set 'login_time' as the index\n",
    "df_logins.set_index('login_time', inplace=True)\n",
    "# Sort by index\n",
    "df_logins.sort_index(inplace=True)\n"
   ]
  },
  {
   "cell_type": "markdown",
   "metadata": {},
   "source": [
    "<b> Time Plot of time ordered original data: </b>"
   ]
  },
  {
   "cell_type": "code",
   "execution_count": 9,
   "metadata": {},
   "outputs": [
    {
     "data": {
      "text/plain": [
       "[<matplotlib.lines.Line2D at 0x20f7a1530e0>]"
      ]
     },
     "execution_count": 9,
     "metadata": {},
     "output_type": "execute_result"
    },
    {
     "data": {
      "image/png": "[encoded data removed]",
      "text/plain": [
       "<Figure size 2000x200 with 1 Axes>"
      ]
     },
     "metadata": {},
     "output_type": "display_data"
    }
   ],
   "source": [
    "fig,axs=plt.subplots(figsize=(20,2))\n",
    "axs.plot(df_logins)"
   ]
  },
  {
   "cell_type": "markdown",
   "metadata": {},
   "source": [
    "<li> The dataframe is a timestamp collection from '1970-01-01' to '1970-04-13' so about 3.5 months"
   ]
  },
  {
   "cell_type": "markdown",
   "metadata": {},
   "source": [
    "### Aggregation based on 15 minute intervals"
   ]
  },
  {
   "cell_type": "code",
   "execution_count": 10,
   "metadata": {},
   "outputs": [
    {
     "name": "stdout",
     "output_type": "stream",
     "text": [
      "\n",
      "COLUMNS LIST: \n",
      "['num']\n",
      "\n",
      "FIRST FEW: \n",
      "                     num\n",
      "login_time              \n",
      "1970-01-01 20:00:00    2\n",
      "1970-01-01 20:15:00    6\n",
      "1970-01-01 20:30:00    9\n",
      "\n",
      "LAST FEW: \n",
      "                     num\n",
      "login_time              \n",
      "1970-04-13 18:15:00    2\n",
      "1970-04-13 18:30:00    7\n",
      "1970-04-13 18:45:00    6\n",
      "\n",
      "INFO: \n",
      "<class 'pandas.core.frame.DataFrame'>\n",
      "DatetimeIndex: 9788 entries, 1970-01-01 20:00:00 to 1970-04-13 18:45:00\n",
      "Freq: 15min\n",
      "Data columns (total 1 columns):\n",
      " #   Column  Non-Null Count  Dtype\n",
      "---  ------  --------------  -----\n",
      " 0   num     9788 non-null   int64\n",
      "dtypes: int64(1)\n",
      "memory usage: 152.9 KB\n",
      "None\n",
      "\n",
      "DESCRIPTION: \n",
      "               num\n",
      "count  9788.000000\n",
      "mean      9.515938\n",
      "std       8.328818\n",
      "min       0.000000\n",
      "25%       3.000000\n",
      "50%       7.000000\n",
      "75%      13.000000\n",
      "max      73.000000\n"
     ]
    }
   ],
   "source": [
    "# Create Aggregation\n",
    "df_logins_agg=df_logins.copy()\n",
    "# Resample based on 15-minute intervals and aggregate \n",
    "df_logins_agg = df_logins_agg.resample('15min').count()  \n",
    "\n",
    "cols_logins_agg=basic_eda(df_logins_agg)\n"
   ]
  },
  {
   "cell_type": "markdown",
   "metadata": {},
   "source": [
    "<li> There are 9788 entries of 15 minute intervals in the resampled data of count of logins"
   ]
  },
  {
   "cell_type": "markdown",
   "metadata": {},
   "source": [
    "<b> Time Plot: </b>"
   ]
  },
  {
   "cell_type": "code",
   "execution_count": 11,
   "metadata": {},
   "outputs": [
    {
     "data": {
      "image/png": "[encoded data removed]",
      "text/plain": [
       "<Figure size 2000x400 with 1 Axes>"
      ]
     },
     "metadata": {},
     "output_type": "display_data"
    }
   ],
   "source": [
    "mean_logins=df_logins_agg.mean().values[0]\n",
    "#rolling_logins=df_logins_agg.rolling(3).mean().interpolate().bfill()\n",
    "plt.figure(figsize=(20,4))\n",
    "plt.plot(df_logins_agg)\n",
    "#plt.plot(rolling_logins,'-y')\n",
    "plt.axhline(mean_logins,linestyle='--',color='m')\n",
    "plt.grid(axis='x')\n",
    "plt.show()"
   ]
  },
  {
   "cell_type": "markdown",
   "metadata": {},
   "source": [
    "<li> There seems to be significant fluctuations in login with variation around mean\n",
    "<li> Possible seasonality effect\n",
    "<br>\n",
    "<p> Let's look at the lagged autocorrelation to explore seasonality </p>"
   ]
  },
  {
   "cell_type": "code",
   "execution_count": 12,
   "metadata": {},
   "outputs": [
    {
     "name": "stdout",
     "output_type": "stream",
     "text": [
      "[ 1.          0.83065749  0.7838773  ... -0.05604951 -0.04703516\n",
      " -0.04032371]\n"
     ]
    },
    {
     "data": {
      "text/plain": [
       "array([ 48,  96, 151, 193, 247, 288, 329, 384, 426, 480, 522, 576, 622,\n",
       "       672, 719, 768, 823, 864, 918, 960], dtype=int64)"
      ]
     },
     "execution_count": 12,
     "metadata": {},
     "output_type": "execute_result"
    },
    {
     "data": {
      "image/png": "[encoded data removed]",
      "text/plain": [
       "<Figure size 2000x800 with 1 Axes>"
      ]
     },
     "metadata": {},
     "output_type": "display_data"
    }
   ],
   "source": [
    "# Assuming 'df_logins_agg' is your time series data (as a pandas Series or DataFrame column)\n",
    "# Calculate ACF values up to 1000 lags\n",
    "acf_values = acf(df_logins_agg, nlags=1000)  # Adjust 'nlags' as needed\n",
    "\n",
    "# Display the ACF values\n",
    "print(acf_values)\n",
    "\n",
    "# Determining the peaks of the ACF plots\n",
    "peaks1, _ = scipy.signal.find_peaks(acf_values,prominence=.05)\n",
    "plt.figure(figsize=(20,8))\n",
    "plt.plot(acf_values)\n",
    "plt.plot(peaks1,acf_values[peaks1],'x')\n",
    "peaks1"
   ]
  },
  {
   "cell_type": "markdown",
   "metadata": {},
   "source": [
    "<b> Plot a distribution of the difference of the peaks indices:"
   ]
  },
  {
   "cell_type": "code",
   "execution_count": 13,
   "metadata": {},
   "outputs": [
    {
     "data": {
      "image/png": "[encoded data removed]",
      "text/plain": [
       "<Figure size 1000x400 with 1 Axes>"
      ]
     },
     "metadata": {},
     "output_type": "display_data"
    },
    {
     "name": "stdout",
     "output_type": "stream",
     "text": [
      "Mean Difference:  [48.]\n"
     ]
    }
   ],
   "source": [
    "fig,axs=plt.subplots(figsize=(10,4))\n",
    "axs.hist(pd.DataFrame(peaks1).diff().dropna(),cumulative=True,density=True)\n",
    "axs.axhline(y=.5,linestyle='--',color='m')\n",
    "plt.suptitle('histogram of distance between peaks')\n",
    "plt.show()\n",
    "print('Mean Difference: ',pd.DataFrame(peaks1).diff().dropna().mean().values)"
   ]
  },
  {
   "cell_type": "markdown",
   "metadata": {},
   "source": [
    "<li> The distance between peaks varies from roughly 41 to 55.\n",
    "<li> The CDF value of .5 corresponds to roughly 48.\n",
    "<br><p><i> \n",
    "<li> Hence the seasonality of logins can be considered to be 48 \n",
    "<li> <b>Since each subsequent value is the login counts of 15 minutes, the actual seasonality = 15*48 = 720 minutes (12 hours)</b>\n",
    "</i></p></br>"
   ]
  },
  {
   "cell_type": "markdown",
   "metadata": {},
   "source": [
    "## Part 2: Experiment and Metrics Design"
   ]
  },
  {
   "cell_type": "code",
   "execution_count": 14,
   "metadata": {},
   "outputs": [
    {
     "name": "stdout",
     "output_type": "stream",
     "text": [
      "\n",
      "COLUMNS LIST: \n",
      "['city', 'trips_in_first_30_days', 'signup_date', 'avg_rating_of_driver', 'avg_surge', 'last_trip_date', 'phone', 'surge_pct', 'ultimate_black_user', 'weekday_pct', 'avg_dist', 'avg_rating_by_driver']\n",
      "\n",
      "FIRST FEW: \n",
      "             city  trips_in_first_30_days signup_date  avg_rating_of_driver  \\\n",
      "0  King's Landing                       4  2014-01-25                   4.7   \n",
      "1         Astapor                       0  2014-01-29                   5.0   \n",
      "2         Astapor                       3  2014-01-06                   4.3   \n",
      "\n",
      "   avg_surge last_trip_date    phone  surge_pct  ultimate_black_user  \\\n",
      "0        1.1     2014-06-17   iPhone       15.4                 True   \n",
      "1        1.0     2014-05-05  Android        0.0                False   \n",
      "2        1.0     2014-01-07   iPhone        0.0                False   \n",
      "\n",
      "   weekday_pct  avg_dist  avg_rating_by_driver  \n",
      "0         46.2      3.67                   5.0  \n",
      "1         50.0      8.26                   5.0  \n",
      "2        100.0      0.77                   5.0  \n",
      "\n",
      "LAST FEW: \n",
      "             city  trips_in_first_30_days signup_date  avg_rating_of_driver  \\\n",
      "49997  Winterfell                       0  2014-01-31                   5.0   \n",
      "49998     Astapor                       2  2014-01-14                   3.0   \n",
      "49999     Astapor                       0  2014-01-18                   NaN   \n",
      "\n",
      "       avg_surge last_trip_date    phone  surge_pct  ultimate_black_user  \\\n",
      "49997        1.0     2014-05-22  Android        0.0                 True   \n",
      "49998        1.0     2014-01-15   iPhone        0.0                False   \n",
      "49999        1.0     2014-04-20  Android        0.0                False   \n",
      "\n",
      "       weekday_pct  avg_dist  avg_rating_by_driver  \n",
      "49997        100.0      3.86                   5.0  \n",
      "49998        100.0      4.58                   3.5  \n",
      "49999          0.0      3.49                   5.0  \n",
      "\n",
      "INFO: \n",
      "<class 'pandas.core.frame.DataFrame'>\n",
      "RangeIndex: 50000 entries, 0 to 49999\n",
      "Data columns (total 12 columns):\n",
      " #   Column                  Non-Null Count  Dtype  \n",
      "---  ------                  --------------  -----  \n",
      " 0   city                    50000 non-null  object \n",
      " 1   trips_in_first_30_days  50000 non-null  int64  \n",
      " 2   signup_date             50000 non-null  object \n",
      " 3   avg_rating_of_driver    41878 non-null  float64\n",
      " 4   avg_surge               50000 non-null  float64\n",
      " 5   last_trip_date          50000 non-null  object \n",
      " 6   phone                   49604 non-null  object \n",
      " 7   surge_pct               50000 non-null  float64\n",
      " 8   ultimate_black_user     50000 non-null  bool   \n",
      " 9   weekday_pct             50000 non-null  float64\n",
      " 10  avg_dist                50000 non-null  float64\n",
      " 11  avg_rating_by_driver    49799 non-null  float64\n",
      "dtypes: bool(1), float64(6), int64(1), object(4)\n",
      "memory usage: 4.2+ MB\n",
      "None\n",
      "\n",
      "DESCRIPTION: \n",
      "       trips_in_first_30_days  avg_rating_of_driver     avg_surge  \\\n",
      "count            50000.000000          41878.000000  50000.000000   \n",
      "mean                 2.278200              4.601559      1.074764   \n",
      "std                  3.792684              0.617338      0.222336   \n",
      "min                  0.000000              1.000000      1.000000   \n",
      "25%                  0.000000              4.300000      1.000000   \n",
      "50%                  1.000000              4.900000      1.000000   \n",
      "75%                  3.000000              5.000000      1.050000   \n",
      "max                125.000000              5.000000      8.000000   \n",
      "\n",
      "          surge_pct   weekday_pct      avg_dist  avg_rating_by_driver  \n",
      "count  50000.000000  50000.000000  50000.000000          49799.000000  \n",
      "mean       8.849536     60.926084      5.796827              4.778158  \n",
      "std       19.958811     37.081503      5.707357              0.446652  \n",
      "min        0.000000      0.000000      0.000000              1.000000  \n",
      "25%        0.000000     33.300000      2.420000              4.700000  \n",
      "50%        0.000000     66.700000      3.880000              5.000000  \n",
      "75%        8.600000    100.000000      6.940000              5.000000  \n",
      "max      100.000000    100.000000    160.960000              5.000000  \n"
     ]
    }
   ],
   "source": [
    "data_cols=basic_eda(df_data)"
   ]
  },
  {
   "cell_type": "markdown",
   "metadata": {},
   "source": [
    "<li> There are 50,000 rows of data\n",
    "<li> at first glance the columns seem to have correct dtypes\n",
    "<li> Some values are missing in 'avg_rating_of_driver', 'phone' and 'avg_rating_by_driver'"
   ]
  },
  {
   "cell_type": "markdown",
   "metadata": {},
   "source": [
    "### What would you choose as the key measure of success of this experiment in encouraging driver partners to serve both cities, and why would you choose this metric? "
   ]
  },
  {
   "cell_type": "markdown",
   "metadata": {},
   "source": [
    "Q. If the experiment of reimbursing toll costs is a success, what would be its effect on the variables?\n",
    "<br><p>\n",
    "<ol>\n",
    "<li> City: We'd expect an increasing number of entries with both city values since more drivers would be signing up\n",
    "<li> Trips in first 30 days: We'd expect this number to be high since more riders will be making more trips due to increased availability of drivers\n",
    "<li> signup_date: We'd see more riders signing up, the number of riders with recent signup dates would increase\n",
    "<li> avg_rating_of_driver: This may or may not go up\n",
    "<li> avg_surge: This should increase since there will be more demand when awareness of increased driver traffic spreads\n",
    "<li> last_trip_date: The distance between this and today should become smaller as demand increases\n",
    "<li> phone: No particular effect on its value\n",
    "<li> surge_pct: Goes up as demand goes up\n",
    "<li> ultimate_black_user: Also increases as demand increases\n",
    "<li> weekday_pct: as inter-city traffic increases, this should increase for both Metropolis and Gotham (especially the former for its vibrant night life)\n",
    "<li> avg_dist: This should go up as inter-city travel increases\n",
    "<li> avg_rating_by_driver: Not expected to change much\n",
    "</ol>\n",
    "</p>\n",
    "</br>\n",
    "Of these, 2, 6, 8 and 11 are probably the most impacted by more connectivity between the cities but <b>8 and 11 are probably the key indicators since travelers will be traveling longer distances for inter-city travel, as well as demand for such travel going up. <i>Therefore, we can engineer a feature that is the product of 8 and 11 (distance x surge) as our key indicator</i></b>"
   ]
  },
  {
   "cell_type": "markdown",
   "metadata": {},
   "source": [
    "### Describe a practical experiment you would design to compare the effectiveness of the proposed change in relation to the key measure of success. </b>\n",
    "<br>Please provide details on:\n",
    "</p>"
   ]
  },
  {
   "cell_type": "markdown",
   "metadata": {},
   "source": [
    "<b>a) how you will implement the experiment?</b>\n",
    "<ol>\n",
    "<li> First we inform the customers/citizens through an ad or classified that the toll for users of Metropolis will be reimbursed. Once users are aware of this, the usage patterns should shift accordingly\n",
    "<li> The population of users now extends to those who prefer inter-city travel\n",
    "<li> We note the day the classified/ad is published, and continue recording usage metrics as before\n",
    "<li> Before: before the date experiment began, After: data after the experiment began\n"
   ]
  },
  {
   "cell_type": "markdown",
   "metadata": {},
   "source": [
    "<b>b) what statistical test(s) you will conduct to verify the significance of the\n",
    "observation?</b>\n",
    "<br><p>\n",
    "A. Since there are values of avg_dist and surge_pct for each rider, we can perform a <i>1-tailed (positive), 2-sample t-test</i> to compare the 'before' and 'after' of the key indicator(s) to see if there is a significant <i>increase</i>.\n",
    "<br>Ho: There is no significant increase in the key indicator when inter-city travel is facilitated\n",
    "<br>Halt: There is a significant increase in key indicator when inter-city travel is facilitated"
   ]
  },
  {
   "cell_type": "markdown",
   "metadata": {},
   "source": [
    "<b>c) how you would interpret the results and provide recommendations to the city operations team along with any caveats.?</b>\n",
    "<br><p>A. The results would be a simple statement like whether there is or isn't a statistically significant increase in the key indicator before and after the proposed experiment. If there is, we can justify coordinating with the city to reduce or eliminate or otherwise adjust the two-way toll. If there isn't a significant increase (we cannot reject Ho), we continue operations as earlier\n",
    "<br><p><b>Caveats:</b>\n",
    "<br>\n",
    "<li> A significance level of 5% is used for the statistical test\n",
    "<li> We need enough new riders to get a sufficient experimental population for the key metric\n"
   ]
  },
  {
   "cell_type": "markdown",
   "metadata": {},
   "source": [
    "## Part 3: Predictive Modeling"
   ]
  },
  {
   "cell_type": "markdown",
   "metadata": {},
   "source": [
    "### 1. Perform any cleaning, exploratory analysis, and/or visualizations to use the provided data for this analysis (a few sentences/plots describing your approach will suffice). What fraction of the observed users were retained?</b>"
   ]
  },
  {
   "cell_type": "code",
   "execution_count": 15,
   "metadata": {},
   "outputs": [
    {
     "name": "stdout",
     "output_type": "stream",
     "text": [
      "<class 'pandas.core.frame.DataFrame'>\n",
      "RangeIndex: 50000 entries, 0 to 49999\n",
      "Data columns (total 12 columns):\n",
      " #   Column                  Non-Null Count  Dtype  \n",
      "---  ------                  --------------  -----  \n",
      " 0   city                    50000 non-null  object \n",
      " 1   trips_in_first_30_days  50000 non-null  int64  \n",
      " 2   signup_date             50000 non-null  object \n",
      " 3   avg_rating_of_driver    41878 non-null  float64\n",
      " 4   avg_surge               50000 non-null  float64\n",
      " 5   last_trip_date          50000 non-null  object \n",
      " 6   phone                   49604 non-null  object \n",
      " 7   surge_pct               50000 non-null  float64\n",
      " 8   ultimate_black_user     50000 non-null  bool   \n",
      " 9   weekday_pct             50000 non-null  float64\n",
      " 10  avg_dist                50000 non-null  float64\n",
      " 11  avg_rating_by_driver    49799 non-null  float64\n",
      "dtypes: bool(1), float64(6), int64(1), object(4)\n",
      "memory usage: 4.2+ MB\n"
     ]
    }
   ],
   "source": [
    "# Let's look at df.info again\n",
    "df_data.info()"
   ]
  },
  {
   "cell_type": "code",
   "execution_count": 16,
   "metadata": {},
   "outputs": [],
   "source": [
    "# Convert the boolean values to integers\n",
    "df_data = df_data.astype({col: 'int' for col in df_data.select_dtypes(include=['bool']).columns})"
   ]
  },
  {
   "cell_type": "markdown",
   "metadata": {},
   "source": [
    "<li> Phone number should not have an impact on retention. Hence we can drop this column\n",
    "<li> Nulls in ratings can be imputed with the medians"
   ]
  },
  {
   "cell_type": "code",
   "execution_count": 17,
   "metadata": {},
   "outputs": [],
   "source": [
    "df_data=df_data.drop(columns=['phone'])"
   ]
  },
  {
   "cell_type": "markdown",
   "metadata": {},
   "source": [
    "<b> Pre-processing pipeline"
   ]
  },
  {
   "cell_type": "code",
   "execution_count": 18,
   "metadata": {},
   "outputs": [
    {
     "name": "stdout",
     "output_type": "stream",
     "text": [
      "<class 'pandas.core.frame.DataFrame'>\n",
      "RangeIndex: 50000 entries, 0 to 49999\n",
      "Data columns (total 11 columns):\n",
      " #   Column                  Non-Null Count  Dtype  \n",
      "---  ------                  --------------  -----  \n",
      " 0   city                    50000 non-null  object \n",
      " 1   trips_in_first_30_days  50000 non-null  int64  \n",
      " 2   signup_date             50000 non-null  object \n",
      " 3   avg_rating_of_driver    50000 non-null  float64\n",
      " 4   avg_surge               50000 non-null  float64\n",
      " 5   last_trip_date          50000 non-null  object \n",
      " 6   surge_pct               50000 non-null  float64\n",
      " 7   ultimate_black_user     50000 non-null  int32  \n",
      " 8   weekday_pct             50000 non-null  float64\n",
      " 9   avg_dist                50000 non-null  float64\n",
      " 10  avg_rating_by_driver    50000 non-null  float64\n",
      "dtypes: float64(6), int32(1), int64(1), object(3)\n",
      "memory usage: 4.0+ MB\n"
     ]
    }
   ],
   "source": [
    "#Dictionary to specify transformation strategies\n",
    "transform_dict={'median':['avg_rating_of_driver','avg_rating_by_driver']}\n",
    "\n",
    "# Create a ColumnTransformer to apply the imputers to different columns\n",
    "for strategy,columns in transform_dict.items():\n",
    "    imputer=SimpleImputer(strategy=strategy)\n",
    "    df_data[columns]=imputer.fit_transform(df_data[columns])\n",
    "\n",
    "df_data.info()"
   ]
  },
  {
   "cell_type": "code",
   "execution_count": 19,
   "metadata": {},
   "outputs": [
    {
     "data": {
      "text/plain": [
       "str"
      ]
     },
     "execution_count": 19,
     "metadata": {},
     "output_type": "execute_result"
    }
   ],
   "source": [
    "type(df_data['signup_date'].iloc[0])"
   ]
  },
  {
   "cell_type": "markdown",
   "metadata": {},
   "source": [
    "Min and maximum last_trip_date"
   ]
  },
  {
   "cell_type": "code",
   "execution_count": 20,
   "metadata": {},
   "outputs": [],
   "source": [
    "# Convert the signup_date and last_trip_date columns to pandas timestamp\n",
    "df_data[['signup_date','last_trip_date']]=df_data[['signup_date','last_trip_date']].map(lambda x:pd.Timestamp(x))"
   ]
  },
  {
   "cell_type": "code",
   "execution_count": 21,
   "metadata": {},
   "outputs": [
    {
     "data": {
      "text/plain": [
       "(Timestamp('2014-01-01 00:00:00'), Timestamp('2014-07-01 00:00:00'))"
      ]
     },
     "execution_count": 21,
     "metadata": {},
     "output_type": "execute_result"
    }
   ],
   "source": [
    "oldest_trip_date,recent_trip_date=df_data['last_trip_date'].min(),df_data['last_trip_date'].max()\n",
    "oldest_trip_date,recent_trip_date"
   ]
  },
  {
   "cell_type": "markdown",
   "metadata": {},
   "source": [
    "<li> Let's consider the maximum last trip date as the day the analysis is to be carried out\n",
    "<li> According to the information provided, a rider is considered 'active' if they had a last trip date within 30 days.\n",
    "<li> To do this, we can create a column 'is_active' which is 1(active) or 0(inactive)\n",
    "<li> Keeping the 'is_active' numeric will make it easy to model "
   ]
  },
  {
   "cell_type": "code",
   "execution_count": 22,
   "metadata": {},
   "outputs": [
    {
     "data": {
      "text/html": [
       "<div>\n",
       "<style scoped>\n",
       "    .dataframe tbody tr th:only-of-type {\n",
       "        vertical-align: middle;\n",
       "    }\n",
       "\n",
       "    .dataframe tbody tr th {\n",
       "        vertical-align: top;\n",
       "    }\n",
       "\n",
       "    .dataframe thead th {\n",
       "        text-align: right;\n",
       "    }\n",
       "</style>\n",
       "<table border=\"1\" class=\"dataframe\">\n",
       "  <thead>\n",
       "    <tr style=\"text-align: right;\">\n",
       "      <th></th>\n",
       "      <th>city</th>\n",
       "      <th>trips_in_first_30_days</th>\n",
       "      <th>signup_date</th>\n",
       "      <th>avg_rating_of_driver</th>\n",
       "      <th>avg_surge</th>\n",
       "      <th>last_trip_date</th>\n",
       "      <th>surge_pct</th>\n",
       "      <th>ultimate_black_user</th>\n",
       "      <th>weekday_pct</th>\n",
       "      <th>avg_dist</th>\n",
       "      <th>avg_rating_by_driver</th>\n",
       "      <th>is_active</th>\n",
       "    </tr>\n",
       "  </thead>\n",
       "  <tbody>\n",
       "    <tr>\n",
       "      <th>0</th>\n",
       "      <td>King's Landing</td>\n",
       "      <td>4</td>\n",
       "      <td>2014-01-25</td>\n",
       "      <td>4.7</td>\n",
       "      <td>1.10</td>\n",
       "      <td>2014-06-17</td>\n",
       "      <td>15.4</td>\n",
       "      <td>1</td>\n",
       "      <td>46.2</td>\n",
       "      <td>3.67</td>\n",
       "      <td>5.0</td>\n",
       "      <td>1</td>\n",
       "    </tr>\n",
       "    <tr>\n",
       "      <th>3</th>\n",
       "      <td>King's Landing</td>\n",
       "      <td>9</td>\n",
       "      <td>2014-01-10</td>\n",
       "      <td>4.6</td>\n",
       "      <td>1.14</td>\n",
       "      <td>2014-06-29</td>\n",
       "      <td>20.0</td>\n",
       "      <td>1</td>\n",
       "      <td>80.0</td>\n",
       "      <td>2.36</td>\n",
       "      <td>4.9</td>\n",
       "      <td>1</td>\n",
       "    </tr>\n",
       "    <tr>\n",
       "      <th>5</th>\n",
       "      <td>Winterfell</td>\n",
       "      <td>2</td>\n",
       "      <td>2014-01-09</td>\n",
       "      <td>3.5</td>\n",
       "      <td>1.00</td>\n",
       "      <td>2014-06-06</td>\n",
       "      <td>0.0</td>\n",
       "      <td>1</td>\n",
       "      <td>100.0</td>\n",
       "      <td>10.56</td>\n",
       "      <td>5.0</td>\n",
       "      <td>1</td>\n",
       "    </tr>\n",
       "  </tbody>\n",
       "</table>\n",
       "</div>"
      ],
      "text/plain": [
       "             city  trips_in_first_30_days signup_date  avg_rating_of_driver  \\\n",
       "0  King's Landing                       4  2014-01-25                   4.7   \n",
       "3  King's Landing                       9  2014-01-10                   4.6   \n",
       "5      Winterfell                       2  2014-01-09                   3.5   \n",
       "\n",
       "   avg_surge last_trip_date  surge_pct  ultimate_black_user  weekday_pct  \\\n",
       "0       1.10     2014-06-17       15.4                    1         46.2   \n",
       "3       1.14     2014-06-29       20.0                    1         80.0   \n",
       "5       1.00     2014-06-06        0.0                    1        100.0   \n",
       "\n",
       "   avg_dist  avg_rating_by_driver  is_active  \n",
       "0      3.67                   5.0          1  \n",
       "3      2.36                   4.9          1  \n",
       "5     10.56                   5.0          1  "
      ]
     },
     "execution_count": 22,
     "metadata": {},
     "output_type": "execute_result"
    }
   ],
   "source": [
    "df_data['is_active']=df_data['last_trip_date'].apply(lambda x:1 if pd.Timestamp(x)>=recent_trip_date-pd.Timedelta(30,'days') else 0)\n",
    "df_data[df_data['is_active']==1].head(3)"
   ]
  },
  {
   "cell_type": "code",
   "execution_count": 23,
   "metadata": {},
   "outputs": [
    {
     "data": {
      "text/plain": [
       "Timestamp('2014-06-01 00:00:00')"
      ]
     },
     "execution_count": 23,
     "metadata": {},
     "output_type": "execute_result"
    }
   ],
   "source": [
    "# Minimum active trip date should be 2014-06-01 or greater\n",
    "df_data[df_data['is_active']==1].last_trip_date.min()"
   ]
  },
  {
   "cell_type": "code",
   "execution_count": 24,
   "metadata": {},
   "outputs": [
    {
     "data": {
      "text/plain": [
       "is_active\n",
       "0    0.62392\n",
       "1    0.37608\n",
       "Name: proportion, dtype: float64"
      ]
     },
     "execution_count": 24,
     "metadata": {},
     "output_type": "execute_result"
    }
   ],
   "source": [
    "df_data['is_active'].value_counts(dropna=False,normalize=True)"
   ]
  },
  {
   "cell_type": "markdown",
   "metadata": {},
   "source": [
    "<b><li> Roughly 38% of the recorded users are 'active'</b>"
   ]
  },
  {
   "cell_type": "markdown",
   "metadata": {},
   "source": [
    "### 2. Build a predictive model to help Ultimate determine whether or not a user will be active in their 6th month on the system. Discuss why you chose your approach, what alternatives you considered, and any concerns you have. How valid is your model? Include any key indicators of model performance."
   ]
  },
  {
   "cell_type": "markdown",
   "metadata": {},
   "source": [
    "If a user was 'active' in their 6th month, then the 'last_trip_date' value should be 5 months or greater than the 'signup_date'. Let's create another column, 'is_active_six' to check for this"
   ]
  },
  {
   "cell_type": "code",
   "execution_count": 25,
   "metadata": {},
   "outputs": [
    {
     "data": {
      "text/html": [
       "<div>\n",
       "<style scoped>\n",
       "    .dataframe tbody tr th:only-of-type {\n",
       "        vertical-align: middle;\n",
       "    }\n",
       "\n",
       "    .dataframe tbody tr th {\n",
       "        vertical-align: top;\n",
       "    }\n",
       "\n",
       "    .dataframe thead th {\n",
       "        text-align: right;\n",
       "    }\n",
       "</style>\n",
       "<table border=\"1\" class=\"dataframe\">\n",
       "  <thead>\n",
       "    <tr style=\"text-align: right;\">\n",
       "      <th></th>\n",
       "      <th>city</th>\n",
       "      <th>trips_in_first_30_days</th>\n",
       "      <th>signup_date</th>\n",
       "      <th>avg_rating_of_driver</th>\n",
       "      <th>avg_surge</th>\n",
       "      <th>last_trip_date</th>\n",
       "      <th>surge_pct</th>\n",
       "      <th>ultimate_black_user</th>\n",
       "      <th>weekday_pct</th>\n",
       "      <th>avg_dist</th>\n",
       "      <th>avg_rating_by_driver</th>\n",
       "      <th>is_active</th>\n",
       "      <th>is_active_six</th>\n",
       "    </tr>\n",
       "  </thead>\n",
       "  <tbody>\n",
       "    <tr>\n",
       "      <th>3</th>\n",
       "      <td>King's Landing</td>\n",
       "      <td>9</td>\n",
       "      <td>2014-01-10</td>\n",
       "      <td>4.6</td>\n",
       "      <td>1.14</td>\n",
       "      <td>2014-06-29</td>\n",
       "      <td>20.0</td>\n",
       "      <td>1</td>\n",
       "      <td>80.0</td>\n",
       "      <td>2.36</td>\n",
       "      <td>4.9</td>\n",
       "      <td>1</td>\n",
       "      <td>1</td>\n",
       "    </tr>\n",
       "    <tr>\n",
       "      <th>16</th>\n",
       "      <td>King's Landing</td>\n",
       "      <td>1</td>\n",
       "      <td>2014-01-11</td>\n",
       "      <td>5.0</td>\n",
       "      <td>1.00</td>\n",
       "      <td>2014-06-28</td>\n",
       "      <td>0.0</td>\n",
       "      <td>1</td>\n",
       "      <td>50.0</td>\n",
       "      <td>10.86</td>\n",
       "      <td>3.0</td>\n",
       "      <td>1</td>\n",
       "      <td>1</td>\n",
       "    </tr>\n",
       "    <tr>\n",
       "      <th>17</th>\n",
       "      <td>King's Landing</td>\n",
       "      <td>0</td>\n",
       "      <td>2014-01-12</td>\n",
       "      <td>3.9</td>\n",
       "      <td>1.00</td>\n",
       "      <td>2014-07-01</td>\n",
       "      <td>0.0</td>\n",
       "      <td>1</td>\n",
       "      <td>95.2</td>\n",
       "      <td>2.38</td>\n",
       "      <td>4.8</td>\n",
       "      <td>1</td>\n",
       "      <td>1</td>\n",
       "    </tr>\n",
       "  </tbody>\n",
       "</table>\n",
       "</div>"
      ],
      "text/plain": [
       "              city  trips_in_first_30_days signup_date  avg_rating_of_driver  \\\n",
       "3   King's Landing                       9  2014-01-10                   4.6   \n",
       "16  King's Landing                       1  2014-01-11                   5.0   \n",
       "17  King's Landing                       0  2014-01-12                   3.9   \n",
       "\n",
       "    avg_surge last_trip_date  surge_pct  ultimate_black_user  weekday_pct  \\\n",
       "3        1.14     2014-06-29       20.0                    1         80.0   \n",
       "16       1.00     2014-06-28        0.0                    1         50.0   \n",
       "17       1.00     2014-07-01        0.0                    1         95.2   \n",
       "\n",
       "    avg_dist  avg_rating_by_driver  is_active  is_active_six  \n",
       "3       2.36                   4.9          1              1  \n",
       "16     10.86                   3.0          1              1  \n",
       "17      2.38                   4.8          1              1  "
      ]
     },
     "execution_count": 25,
     "metadata": {},
     "output_type": "execute_result"
    }
   ],
   "source": [
    "df_data['is_active_six'] = df_data.apply(\n",
    "    lambda row: 1 if pd.Timestamp(row['last_trip_date']) >= (pd.Timestamp(row['signup_date']) + pd.Timedelta(30 * 5, 'days')) else 0,\n",
    "    axis=1\n",
    ")\n",
    "df_data[df_data['is_active_six']==1].head(3)"
   ]
  },
  {
   "cell_type": "code",
   "execution_count": 26,
   "metadata": {},
   "outputs": [
    {
     "data": {
      "text/plain": [
       "is_active_six\n",
       "0    0.74572\n",
       "1    0.25428\n",
       "Name: proportion, dtype: float64"
      ]
     },
     "execution_count": 26,
     "metadata": {},
     "output_type": "execute_result"
    }
   ],
   "source": [
    "df_data['is_active_six'].value_counts(dropna=False,normalize=True)"
   ]
  },
  {
   "cell_type": "markdown",
   "metadata": {},
   "source": [
    "<b><li> Roughly 25% of the recorded users are 'active' six months later</b>"
   ]
  },
  {
   "cell_type": "code",
   "execution_count": 27,
   "metadata": {},
   "outputs": [],
   "source": [
    "# Drop 'is_active' since we dont need it for further analysis\n",
    "df_data=df_data.drop(columns=['is_active'])"
   ]
  },
  {
   "cell_type": "markdown",
   "metadata": {},
   "source": [
    "<span style=\"font-size:20px;\">We can convert 'signup_date' and 'last_trip_date' to integers as it's more intuitive to us and can be better modeled than strings or dates. </span>\n",
    "<br>\n",
    "<li>We can do this by subtracting the date from the most recent 'last_trip_date' date"
   ]
  },
  {
   "cell_type": "code",
   "execution_count": 28,
   "metadata": {},
   "outputs": [],
   "source": [
    "df_data['signup_days']=(recent_trip_date-df_data['signup_date']).map(lambda x:x.days)\n",
    "df_data['last_trip_days']=(recent_trip_date-df_data['last_trip_date']).map(lambda x:x.days)"
   ]
  },
  {
   "cell_type": "code",
   "execution_count": 29,
   "metadata": {},
   "outputs": [
    {
     "data": {
      "text/html": [
       "<div>\n",
       "<style scoped>\n",
       "    .dataframe tbody tr th:only-of-type {\n",
       "        vertical-align: middle;\n",
       "    }\n",
       "\n",
       "    .dataframe tbody tr th {\n",
       "        vertical-align: top;\n",
       "    }\n",
       "\n",
       "    .dataframe thead th {\n",
       "        text-align: right;\n",
       "    }\n",
       "</style>\n",
       "<table border=\"1\" class=\"dataframe\">\n",
       "  <thead>\n",
       "    <tr style=\"text-align: right;\">\n",
       "      <th></th>\n",
       "      <th>trips_in_first_30_days</th>\n",
       "      <th>avg_rating_of_driver</th>\n",
       "      <th>avg_surge</th>\n",
       "      <th>surge_pct</th>\n",
       "      <th>ultimate_black_user</th>\n",
       "      <th>weekday_pct</th>\n",
       "      <th>avg_dist</th>\n",
       "      <th>avg_rating_by_driver</th>\n",
       "      <th>is_active_six</th>\n",
       "      <th>signup_days</th>\n",
       "      <th>last_trip_days</th>\n",
       "      <th>city_Astapor</th>\n",
       "      <th>city_King's Landing</th>\n",
       "      <th>city_Winterfell</th>\n",
       "    </tr>\n",
       "  </thead>\n",
       "  <tbody>\n",
       "    <tr>\n",
       "      <th>0</th>\n",
       "      <td>4</td>\n",
       "      <td>4.7</td>\n",
       "      <td>1.10</td>\n",
       "      <td>15.4</td>\n",
       "      <td>1</td>\n",
       "      <td>46.2</td>\n",
       "      <td>3.67</td>\n",
       "      <td>5.0</td>\n",
       "      <td>0</td>\n",
       "      <td>157</td>\n",
       "      <td>14</td>\n",
       "      <td>0</td>\n",
       "      <td>1</td>\n",
       "      <td>0</td>\n",
       "    </tr>\n",
       "    <tr>\n",
       "      <th>1</th>\n",
       "      <td>0</td>\n",
       "      <td>5.0</td>\n",
       "      <td>1.00</td>\n",
       "      <td>0.0</td>\n",
       "      <td>0</td>\n",
       "      <td>50.0</td>\n",
       "      <td>8.26</td>\n",
       "      <td>5.0</td>\n",
       "      <td>0</td>\n",
       "      <td>153</td>\n",
       "      <td>57</td>\n",
       "      <td>1</td>\n",
       "      <td>0</td>\n",
       "      <td>0</td>\n",
       "    </tr>\n",
       "    <tr>\n",
       "      <th>2</th>\n",
       "      <td>3</td>\n",
       "      <td>4.3</td>\n",
       "      <td>1.00</td>\n",
       "      <td>0.0</td>\n",
       "      <td>0</td>\n",
       "      <td>100.0</td>\n",
       "      <td>0.77</td>\n",
       "      <td>5.0</td>\n",
       "      <td>0</td>\n",
       "      <td>176</td>\n",
       "      <td>175</td>\n",
       "      <td>1</td>\n",
       "      <td>0</td>\n",
       "      <td>0</td>\n",
       "    </tr>\n",
       "    <tr>\n",
       "      <th>3</th>\n",
       "      <td>9</td>\n",
       "      <td>4.6</td>\n",
       "      <td>1.14</td>\n",
       "      <td>20.0</td>\n",
       "      <td>1</td>\n",
       "      <td>80.0</td>\n",
       "      <td>2.36</td>\n",
       "      <td>4.9</td>\n",
       "      <td>1</td>\n",
       "      <td>172</td>\n",
       "      <td>2</td>\n",
       "      <td>0</td>\n",
       "      <td>1</td>\n",
       "      <td>0</td>\n",
       "    </tr>\n",
       "    <tr>\n",
       "      <th>4</th>\n",
       "      <td>14</td>\n",
       "      <td>4.4</td>\n",
       "      <td>1.19</td>\n",
       "      <td>11.8</td>\n",
       "      <td>0</td>\n",
       "      <td>82.4</td>\n",
       "      <td>3.13</td>\n",
       "      <td>4.9</td>\n",
       "      <td>0</td>\n",
       "      <td>155</td>\n",
       "      <td>108</td>\n",
       "      <td>0</td>\n",
       "      <td>0</td>\n",
       "      <td>1</td>\n",
       "    </tr>\n",
       "    <tr>\n",
       "      <th>...</th>\n",
       "      <td>...</td>\n",
       "      <td>...</td>\n",
       "      <td>...</td>\n",
       "      <td>...</td>\n",
       "      <td>...</td>\n",
       "      <td>...</td>\n",
       "      <td>...</td>\n",
       "      <td>...</td>\n",
       "      <td>...</td>\n",
       "      <td>...</td>\n",
       "      <td>...</td>\n",
       "      <td>...</td>\n",
       "      <td>...</td>\n",
       "      <td>...</td>\n",
       "    </tr>\n",
       "    <tr>\n",
       "      <th>49995</th>\n",
       "      <td>0</td>\n",
       "      <td>5.0</td>\n",
       "      <td>1.00</td>\n",
       "      <td>0.0</td>\n",
       "      <td>0</td>\n",
       "      <td>100.0</td>\n",
       "      <td>5.63</td>\n",
       "      <td>4.2</td>\n",
       "      <td>0</td>\n",
       "      <td>157</td>\n",
       "      <td>26</td>\n",
       "      <td>0</td>\n",
       "      <td>1</td>\n",
       "      <td>0</td>\n",
       "    </tr>\n",
       "    <tr>\n",
       "      <th>49996</th>\n",
       "      <td>1</td>\n",
       "      <td>4.9</td>\n",
       "      <td>1.00</td>\n",
       "      <td>0.0</td>\n",
       "      <td>0</td>\n",
       "      <td>0.0</td>\n",
       "      <td>0.00</td>\n",
       "      <td>4.0</td>\n",
       "      <td>0</td>\n",
       "      <td>158</td>\n",
       "      <td>157</td>\n",
       "      <td>1</td>\n",
       "      <td>0</td>\n",
       "      <td>0</td>\n",
       "    </tr>\n",
       "    <tr>\n",
       "      <th>49997</th>\n",
       "      <td>0</td>\n",
       "      <td>5.0</td>\n",
       "      <td>1.00</td>\n",
       "      <td>0.0</td>\n",
       "      <td>1</td>\n",
       "      <td>100.0</td>\n",
       "      <td>3.86</td>\n",
       "      <td>5.0</td>\n",
       "      <td>0</td>\n",
       "      <td>151</td>\n",
       "      <td>40</td>\n",
       "      <td>0</td>\n",
       "      <td>0</td>\n",
       "      <td>1</td>\n",
       "    </tr>\n",
       "    <tr>\n",
       "      <th>49998</th>\n",
       "      <td>2</td>\n",
       "      <td>3.0</td>\n",
       "      <td>1.00</td>\n",
       "      <td>0.0</td>\n",
       "      <td>0</td>\n",
       "      <td>100.0</td>\n",
       "      <td>4.58</td>\n",
       "      <td>3.5</td>\n",
       "      <td>0</td>\n",
       "      <td>168</td>\n",
       "      <td>167</td>\n",
       "      <td>1</td>\n",
       "      <td>0</td>\n",
       "      <td>0</td>\n",
       "    </tr>\n",
       "    <tr>\n",
       "      <th>49999</th>\n",
       "      <td>0</td>\n",
       "      <td>4.9</td>\n",
       "      <td>1.00</td>\n",
       "      <td>0.0</td>\n",
       "      <td>0</td>\n",
       "      <td>0.0</td>\n",
       "      <td>3.49</td>\n",
       "      <td>5.0</td>\n",
       "      <td>0</td>\n",
       "      <td>164</td>\n",
       "      <td>72</td>\n",
       "      <td>1</td>\n",
       "      <td>0</td>\n",
       "      <td>0</td>\n",
       "    </tr>\n",
       "  </tbody>\n",
       "</table>\n",
       "<p>50000 rows × 14 columns</p>\n",
       "</div>"
      ],
      "text/plain": [
       "       trips_in_first_30_days  avg_rating_of_driver  avg_surge  surge_pct  \\\n",
       "0                           4                   4.7       1.10       15.4   \n",
       "1                           0                   5.0       1.00        0.0   \n",
       "2                           3                   4.3       1.00        0.0   \n",
       "3                           9                   4.6       1.14       20.0   \n",
       "4                          14                   4.4       1.19       11.8   \n",
       "...                       ...                   ...        ...        ...   \n",
       "49995                       0                   5.0       1.00        0.0   \n",
       "49996                       1                   4.9       1.00        0.0   \n",
       "49997                       0                   5.0       1.00        0.0   \n",
       "49998                       2                   3.0       1.00        0.0   \n",
       "49999                       0                   4.9       1.00        0.0   \n",
       "\n",
       "       ultimate_black_user  weekday_pct  avg_dist  avg_rating_by_driver  \\\n",
       "0                        1         46.2      3.67                   5.0   \n",
       "1                        0         50.0      8.26                   5.0   \n",
       "2                        0        100.0      0.77                   5.0   \n",
       "3                        1         80.0      2.36                   4.9   \n",
       "4                        0         82.4      3.13                   4.9   \n",
       "...                    ...          ...       ...                   ...   \n",
       "49995                    0        100.0      5.63                   4.2   \n",
       "49996                    0          0.0      0.00                   4.0   \n",
       "49997                    1        100.0      3.86                   5.0   \n",
       "49998                    0        100.0      4.58                   3.5   \n",
       "49999                    0          0.0      3.49                   5.0   \n",
       "\n",
       "       is_active_six  signup_days  last_trip_days  city_Astapor  \\\n",
       "0                  0          157              14             0   \n",
       "1                  0          153              57             1   \n",
       "2                  0          176             175             1   \n",
       "3                  1          172               2             0   \n",
       "4                  0          155             108             0   \n",
       "...              ...          ...             ...           ...   \n",
       "49995              0          157              26             0   \n",
       "49996              0          158             157             1   \n",
       "49997              0          151              40             0   \n",
       "49998              0          168             167             1   \n",
       "49999              0          164              72             1   \n",
       "\n",
       "       city_King's Landing  city_Winterfell  \n",
       "0                        1                0  \n",
       "1                        0                0  \n",
       "2                        0                0  \n",
       "3                        1                0  \n",
       "4                        0                1  \n",
       "...                    ...              ...  \n",
       "49995                    1                0  \n",
       "49996                    0                0  \n",
       "49997                    0                1  \n",
       "49998                    0                0  \n",
       "49999                    0                0  \n",
       "\n",
       "[50000 rows x 14 columns]"
      ]
     },
     "execution_count": 29,
     "metadata": {},
     "output_type": "execute_result"
    }
   ],
   "source": [
    "df_data_dummies=pd.get_dummies(df_data.drop(columns=['signup_date','last_trip_date']),dtype='int')\n",
    "df_data_dummies"
   ]
  },
  {
   "cell_type": "markdown",
   "metadata": {},
   "source": [
    "<b> Prepare training and Testing data:"
   ]
  },
  {
   "cell_type": "code",
   "execution_count": 30,
   "metadata": {},
   "outputs": [
    {
     "name": "stdout",
     "output_type": "stream",
     "text": [
      "<class 'pandas.core.frame.DataFrame'>\n",
      "RangeIndex: 50000 entries, 0 to 49999\n",
      "Data columns (total 14 columns):\n",
      " #   Column                  Non-Null Count  Dtype  \n",
      "---  ------                  --------------  -----  \n",
      " 0   trips_in_first_30_days  50000 non-null  int64  \n",
      " 1   avg_rating_of_driver    50000 non-null  float64\n",
      " 2   avg_surge               50000 non-null  float64\n",
      " 3   surge_pct               50000 non-null  float64\n",
      " 4   ultimate_black_user     50000 non-null  int32  \n",
      " 5   weekday_pct             50000 non-null  float64\n",
      " 6   avg_dist                50000 non-null  float64\n",
      " 7   avg_rating_by_driver    50000 non-null  float64\n",
      " 8   is_active_six           50000 non-null  int64  \n",
      " 9   signup_days             50000 non-null  int64  \n",
      " 10  last_trip_days          50000 non-null  int64  \n",
      " 11  city_Astapor            50000 non-null  int32  \n",
      " 12  city_King's Landing     50000 non-null  int32  \n",
      " 13  city_Winterfell         50000 non-null  int32  \n",
      "dtypes: float64(6), int32(4), int64(4)\n",
      "memory usage: 4.6 MB\n"
     ]
    }
   ],
   "source": [
    "# Ensure columns are numeric types\n",
    "df_data_dummies.info()"
   ]
  },
  {
   "cell_type": "markdown",
   "metadata": {},
   "source": [
    "We now have all numeric types"
   ]
  },
  {
   "cell_type": "code",
   "execution_count": 31,
   "metadata": {},
   "outputs": [],
   "source": [
    "target_col='is_active_six'\n",
    "labels=df_data_dummies[target_col].unique().tolist()\n",
    "X=df_data_dummies[[col for col in df_data_dummies.columns if target_col !=col]]\n",
    "y=df_data_dummies[target_col]"
   ]
  },
  {
   "cell_type": "code",
   "execution_count": 32,
   "metadata": {},
   "outputs": [],
   "source": [
    "# Train and Test Data\n",
    "X_train,X_test,y_train,y_test=train_test_split(X,y,train_size=.8,random_state=42)"
   ]
  },
  {
   "cell_type": "code",
   "execution_count": 33,
   "metadata": {},
   "outputs": [
    {
     "data": {
      "text/plain": [
       "is_active_six\n",
       "0    7435\n",
       "1    2565\n",
       "Name: count, dtype: int64"
      ]
     },
     "execution_count": 33,
     "metadata": {},
     "output_type": "execute_result"
    }
   ],
   "source": [
    "y_test.value_counts(dropna=False)"
   ]
  },
  {
   "cell_type": "markdown",
   "metadata": {},
   "source": [
    "<b>Create the ML Pipeline:"
   ]
  },
  {
   "cell_type": "code",
   "execution_count": 34,
   "metadata": {},
   "outputs": [],
   "source": [
    "def evaluate_classifier(models_dict):\n",
    "    roc_dict={}\n",
    "    for model,params in models_dict.items():\n",
    "        model_steps=[\n",
    "            #('Scaler',StandardScaler())\n",
    "            ('Model',model)\n",
    "        ]\n",
    "        # Set parameters\n",
    "        params={'Model__'+k:v for k,v in params.items()} \n",
    "        # Create Pipeline\n",
    "        pipeline=Pipeline(model_steps)\n",
    "        # GSCV\n",
    "        search=GridSearchCV(estimator=pipeline,param_grid=params,cv=3,scoring='accuracy')\n",
    "        # Define local model using pipeline\n",
    "        search.fit(X_train,y_train)\n",
    "        print('\\n',model.__class__.__name__,'\\n','Best Score, Best Params: ',search.best_score_,search.best_params_)\n",
    "        # Predict\n",
    "        y_pred_prob = search.predict_proba(X_test)\n",
    "        y_pred_class = search.predict(X_test)\n",
    "        # Classification metrics\n",
    "        class_report=classification_report(y_test,y_pred_class,output_dict=True,labels=labels)\n",
    "        df_class_report=pd.DataFrame(class_report).T\n",
    "        print(df_class_report) \n",
    "        # ROC curve\n",
    "        fpr, tpr, thresholds = roc_curve(y_test, y_pred_prob[:,1])\n",
    "        roc_auc = auc(fpr, tpr)\n",
    "        roc_dict[model]=[fpr,tpr,roc_auc]\n",
    "        \n",
    "    return roc_dict\n"
   ]
  },
  {
   "cell_type": "code",
   "execution_count": 35,
   "metadata": {},
   "outputs": [],
   "source": [
    "# List of models to evaluate\n",
    "models_dict={RandomForestClassifier():{'n_estimators':[50,100,150]},\n",
    "             KNeighborsClassifier():{'n_neighbors':[5,10,15]},\n",
    "             XGBClassifier():{'booster':['gbtree','gblinear','dart']},\n",
    "             LogisticRegression():{'C':[.5,1],'max_iter':[100,200,500]}}"
   ]
  },
  {
   "cell_type": "code",
   "execution_count": 36,
   "metadata": {},
   "outputs": [
    {
     "name": "stdout",
     "output_type": "stream",
     "text": [
      "\n",
      " RandomForestClassifier \n",
      " Best Score, Best Params:  0.9936250168666096 {'Model__n_estimators': 150}\n",
      "              precision    recall  f1-score    support\n",
      "0              0.995040  0.998252  0.996643   7435.000\n",
      "1              0.994884  0.985575  0.990208   2565.000\n",
      "accuracy       0.995000  0.995000  0.995000      0.995\n",
      "macro avg      0.994962  0.991913  0.993425  10000.000\n",
      "weighted avg   0.995000  0.995000  0.994992  10000.000\n",
      "\n",
      " KNeighborsClassifier \n",
      " Best Score, Best Params:  0.9825500268525161 {'Model__n_neighbors': 15}\n",
      "              precision    recall  f1-score     support\n",
      "0              0.993907  0.987357  0.990621   7435.0000\n",
      "1              0.964040  0.982456  0.973161   2565.0000\n",
      "accuracy       0.986100  0.986100  0.986100      0.9861\n",
      "macro avg      0.978974  0.984907  0.981891  10000.0000\n",
      "weighted avg   0.986246  0.986100  0.986143  10000.0000\n",
      "\n",
      " XGBClassifier \n",
      " Best Score, Best Params:  0.9997499993747031 {'Model__booster': 'gbtree'}\n",
      "              precision  recall  f1-score  support\n",
      "0                   1.0     1.0       1.0   7435.0\n",
      "1                   1.0     1.0       1.0   2565.0\n",
      "accuracy            1.0     1.0       1.0      1.0\n",
      "macro avg           1.0     1.0       1.0  10000.0\n",
      "weighted avg        1.0     1.0       1.0  10000.0\n"
     ]
    },
    {
     "name": "stderr",
     "output_type": "stream",
     "text": [
      "ConvergenceWarning: lbfgs failed to converge (status=1):\n",
      "STOP: TOTAL NO. of ITERATIONS REACHED LIMIT.\n",
      "\n",
      "Increase the number of iterations (max_iter) or scale the data as shown in:\n",
      "    https://scikit-learn.org/stable/modules/preprocessing.html\n",
      "Please also refer to the documentation for alternative solver options:\n",
      "    https://scikit-learn.org/stable/modules/linear_model.html#logistic-regression\n",
      "ConvergenceWarning: lbfgs failed to converge (status=1):\n",
      "STOP: TOTAL NO. of ITERATIONS REACHED LIMIT.\n",
      "\n",
      "Increase the number of iterations (max_iter) or scale the data as shown in:\n",
      "    https://scikit-learn.org/stable/modules/preprocessing.html\n",
      "Please also refer to the documentation for alternative solver options:\n",
      "    https://scikit-learn.org/stable/modules/linear_model.html#logistic-regression\n",
      "ConvergenceWarning: lbfgs failed to converge (status=1):\n",
      "STOP: TOTAL NO. of ITERATIONS REACHED LIMIT.\n",
      "\n",
      "Increase the number of iterations (max_iter) or scale the data as shown in:\n",
      "    https://scikit-learn.org/stable/modules/preprocessing.html\n",
      "Please also refer to the documentation for alternative solver options:\n",
      "    https://scikit-learn.org/stable/modules/linear_model.html#logistic-regression\n",
      "ConvergenceWarning: lbfgs failed to converge (status=1):\n",
      "STOP: TOTAL NO. of ITERATIONS REACHED LIMIT.\n",
      "\n",
      "Increase the number of iterations (max_iter) or scale the data as shown in:\n",
      "    https://scikit-learn.org/stable/modules/preprocessing.html\n",
      "Please also refer to the documentation for alternative solver options:\n",
      "    https://scikit-learn.org/stable/modules/linear_model.html#logistic-regression\n",
      "ConvergenceWarning: lbfgs failed to converge (status=1):\n",
      "STOP: TOTAL NO. of ITERATIONS REACHED LIMIT.\n",
      "\n",
      "Increase the number of iterations (max_iter) or scale the data as shown in:\n",
      "    https://scikit-learn.org/stable/modules/preprocessing.html\n",
      "Please also refer to the documentation for alternative solver options:\n",
      "    https://scikit-learn.org/stable/modules/linear_model.html#logistic-regression\n",
      "ConvergenceWarning: lbfgs failed to converge (status=1):\n",
      "STOP: TOTAL NO. of ITERATIONS REACHED LIMIT.\n",
      "\n",
      "Increase the number of iterations (max_iter) or scale the data as shown in:\n",
      "    https://scikit-learn.org/stable/modules/preprocessing.html\n",
      "Please also refer to the documentation for alternative solver options:\n",
      "    https://scikit-learn.org/stable/modules/linear_model.html#logistic-regression\n",
      "ConvergenceWarning: lbfgs failed to converge (status=1):\n",
      "STOP: TOTAL NO. of ITERATIONS REACHED LIMIT.\n",
      "\n",
      "Increase the number of iterations (max_iter) or scale the data as shown in:\n",
      "    https://scikit-learn.org/stable/modules/preprocessing.html\n",
      "Please also refer to the documentation for alternative solver options:\n",
      "    https://scikit-learn.org/stable/modules/linear_model.html#logistic-regression\n",
      "ConvergenceWarning: lbfgs failed to converge (status=1):\n",
      "STOP: TOTAL NO. of ITERATIONS REACHED LIMIT.\n",
      "\n",
      "Increase the number of iterations (max_iter) or scale the data as shown in:\n",
      "    https://scikit-learn.org/stable/modules/preprocessing.html\n",
      "Please also refer to the documentation for alternative solver options:\n",
      "    https://scikit-learn.org/stable/modules/linear_model.html#logistic-regression\n",
      "ConvergenceWarning: lbfgs failed to converge (status=1):\n",
      "STOP: TOTAL NO. of ITERATIONS REACHED LIMIT.\n",
      "\n",
      "Increase the number of iterations (max_iter) or scale the data as shown in:\n",
      "    https://scikit-learn.org/stable/modules/preprocessing.html\n",
      "Please also refer to the documentation for alternative solver options:\n",
      "    https://scikit-learn.org/stable/modules/linear_model.html#logistic-regression\n",
      "ConvergenceWarning: lbfgs failed to converge (status=1):\n",
      "STOP: TOTAL NO. of ITERATIONS REACHED LIMIT.\n",
      "\n",
      "Increase the number of iterations (max_iter) or scale the data as shown in:\n",
      "    https://scikit-learn.org/stable/modules/preprocessing.html\n",
      "Please also refer to the documentation for alternative solver options:\n",
      "    https://scikit-learn.org/stable/modules/linear_model.html#logistic-regression\n",
      "ConvergenceWarning: lbfgs failed to converge (status=1):\n",
      "STOP: TOTAL NO. of ITERATIONS REACHED LIMIT.\n",
      "\n",
      "Increase the number of iterations (max_iter) or scale the data as shown in:\n",
      "    https://scikit-learn.org/stable/modules/preprocessing.html\n",
      "Please also refer to the documentation for alternative solver options:\n",
      "    https://scikit-learn.org/stable/modules/linear_model.html#logistic-regression\n",
      "ConvergenceWarning: lbfgs failed to converge (status=1):\n",
      "STOP: TOTAL NO. of ITERATIONS REACHED LIMIT.\n",
      "\n",
      "Increase the number of iterations (max_iter) or scale the data as shown in:\n",
      "    https://scikit-learn.org/stable/modules/preprocessing.html\n",
      "Please also refer to the documentation for alternative solver options:\n",
      "    https://scikit-learn.org/stable/modules/linear_model.html#logistic-regression\n",
      "ConvergenceWarning: lbfgs failed to converge (status=1):\n",
      "STOP: TOTAL NO. of ITERATIONS REACHED LIMIT.\n",
      "\n",
      "Increase the number of iterations (max_iter) or scale the data as shown in:\n",
      "    https://scikit-learn.org/stable/modules/preprocessing.html\n",
      "Please also refer to the documentation for alternative solver options:\n",
      "    https://scikit-learn.org/stable/modules/linear_model.html#logistic-regression\n",
      "ConvergenceWarning: lbfgs failed to converge (status=1):\n",
      "STOP: TOTAL NO. of ITERATIONS REACHED LIMIT.\n",
      "\n",
      "Increase the number of iterations (max_iter) or scale the data as shown in:\n",
      "    https://scikit-learn.org/stable/modules/preprocessing.html\n",
      "Please also refer to the documentation for alternative solver options:\n",
      "    https://scikit-learn.org/stable/modules/linear_model.html#logistic-regression\n",
      "ConvergenceWarning: lbfgs failed to converge (status=1):\n",
      "STOP: TOTAL NO. of ITERATIONS REACHED LIMIT.\n",
      "\n",
      "Increase the number of iterations (max_iter) or scale the data as shown in:\n",
      "    https://scikit-learn.org/stable/modules/preprocessing.html\n",
      "Please also refer to the documentation for alternative solver options:\n",
      "    https://scikit-learn.org/stable/modules/linear_model.html#logistic-regression\n",
      "ConvergenceWarning: lbfgs failed to converge (status=1):\n",
      "STOP: TOTAL NO. of ITERATIONS REACHED LIMIT.\n",
      "\n",
      "Increase the number of iterations (max_iter) or scale the data as shown in:\n",
      "    https://scikit-learn.org/stable/modules/preprocessing.html\n",
      "Please also refer to the documentation for alternative solver options:\n",
      "    https://scikit-learn.org/stable/modules/linear_model.html#logistic-regression\n",
      "ConvergenceWarning: lbfgs failed to converge (status=1):\n",
      "STOP: TOTAL NO. of ITERATIONS REACHED LIMIT.\n",
      "\n",
      "Increase the number of iterations (max_iter) or scale the data as shown in:\n",
      "    https://scikit-learn.org/stable/modules/preprocessing.html\n",
      "Please also refer to the documentation for alternative solver options:\n",
      "    https://scikit-learn.org/stable/modules/linear_model.html#logistic-regression\n",
      "ConvergenceWarning: lbfgs failed to converge (status=1):\n",
      "STOP: TOTAL NO. of ITERATIONS REACHED LIMIT.\n",
      "\n",
      "Increase the number of iterations (max_iter) or scale the data as shown in:\n",
      "    https://scikit-learn.org/stable/modules/preprocessing.html\n",
      "Please also refer to the documentation for alternative solver options:\n",
      "    https://scikit-learn.org/stable/modules/linear_model.html#logistic-regression\n"
     ]
    },
    {
     "name": "stdout",
     "output_type": "stream",
     "text": [
      "\n",
      " LogisticRegression \n",
      " Best Score, Best Params:  0.9886749962359378 {'Model__C': 1, 'Model__max_iter': 500}\n",
      "              precision    recall  f1-score    support\n",
      "0              0.993266  0.991930  0.992598   7435.000\n",
      "1              0.976699  0.980507  0.978599   2565.000\n",
      "accuracy       0.989000  0.989000  0.989000      0.989\n",
      "macro avg      0.984983  0.986218  0.985598  10000.000\n",
      "weighted avg   0.989017  0.989000  0.989007  10000.000\n"
     ]
    },
    {
     "name": "stderr",
     "output_type": "stream",
     "text": [
      "ConvergenceWarning: lbfgs failed to converge (status=1):\n",
      "STOP: TOTAL NO. of ITERATIONS REACHED LIMIT.\n",
      "\n",
      "Increase the number of iterations (max_iter) or scale the data as shown in:\n",
      "    https://scikit-learn.org/stable/modules/preprocessing.html\n",
      "Please also refer to the documentation for alternative solver options:\n",
      "    https://scikit-learn.org/stable/modules/linear_model.html#logistic-regression\n"
     ]
    }
   ],
   "source": [
    "roc_dict=evaluate_classifier(models_dict)"
   ]
  },
  {
   "cell_type": "code",
   "execution_count": 37,
   "metadata": {},
   "outputs": [
    {
     "data": {
      "image/png": "[encoded data removed]",
      "text/plain": [
       "<Figure size 1200x800 with 1 Axes>"
      ]
     },
     "metadata": {},
     "output_type": "display_data"
    }
   ],
   "source": [
    "# Plot ROC Curves\n",
    "fig,axs=plt.subplots(figsize=(12,8))\n",
    "leg_list=[]\n",
    "for model in list(roc_dict.keys()):\n",
    "    plt.plot(roc_dict[model][0],roc_dict[model][1],'-x')\n",
    "    mod_leg=model.__class__.__name__+' AUC: ' +str(round(roc_dict[model][2],2))\n",
    "    leg_list.append(mod_leg)\n",
    "plt.plot([0,1],[0,1],'--r')\n",
    "leg_list.append('Random Guessing AUC: 0.5')\n",
    "plt.legend(leg_list)\n",
    "plt.title('ROC Curves')\n",
    "plt.xlabel('False Positive Rate (FPR)')\n",
    "plt.ylabel('True Positive Rate (TPR)')\n",
    "plt.show()"
   ]
  },
  {
   "cell_type": "markdown",
   "metadata": {},
   "source": [
    "<span style=\"font-size:20px;\"> We performed modeling using the following steps:</span>\n",
    "<ol>\n",
    "<li> We train a number of hyperparameter combinations for three classifiers: RandomForest, KNN and XGBoost. \n",
    "<li> For each model, we perform a grid search over the hyperparameter combinations and selec the model with the best overall validation score\n",
    "<li> We then test this model by comparing the predicted data with the test data \n",
    "<li> looking at the classification metrics we can tell which model performed better\n",
    "<li> The ROC curve is plotted that helps us evaluate the models at a glance\n",
    "</ol>\n",
    "<p><span style=\"font-size:20px;\"> Advantages of this procedure:</span>\n",
    "<ol><li> Allows us to quickly tune between a range of models with hyperparameters\n",
    "<li> Grid search CV does cross-validation which increases robustness of model\n",
    "<li> Tabular and graphical representation of the model results\n",
    "</ol>\n",
    "</p>\n",
    "<p><span style=\"font-size:20px;\"> How valid is the model?</span>\n",
    "<br> \n",
    "<li> All models evaluated give much better predictions than random guessing on the test set\n",
    "<li> However XGBClassifier provided both the best training validation and testing scores for accuracy, precision, recall and AUC (if only marginally)\n",
    "<br><p><b> Given the high metrics on the test data, we can be confident that XGB will perform reasonably well with new data </b></p?</br>\n",
    "<p><span style=\"font-size:20px;\"> Concerns: </span>\n",
    "<br> \n",
    "<li> The model will be more predictive the longer a customer has stayed with the company, since there will be more data for the model to adjust to the customer's patterns. \n",
    "<li> Therefore we should only predict for users who have signed up only before a certain period of time from today "
   ]
  },
  {
   "cell_type": "markdown",
   "metadata": {},
   "source": [
    "## Briefly discuss how Ultimate might leverage the insights gained from the model to improve its long term rider retention (again, a few sentences will suffice).\n"
   ]
  },
  {
   "cell_type": "markdown",
   "metadata": {},
   "source": [
    "<li> The model will predict if a rider is expected to remain a customer in the long term\n",
    "<li> If the model predicts retention for a rider, we can survey them to see what they like about the service\n",
    "<li> If the model predicts non-retention, we can entice them with benefits (free rides, etc..) to try and make them long term customers\n",
    "<li> In addition, we can solicit feedback from the non-retentive customers for improvements"
   ]
  },
  {
   "cell_type": "markdown",
   "metadata": {},
   "source": []
  }
 ],
 "metadata": {
  "kernelspec": {
   "display_name": "Python 3",
   "language": "python",
   "name": "python3"
  },
  "language_info": {
   "codemirror_mode": {
    "name": "ipython",
    "version": 3
   },
   "file_extension": ".py",
   "mimetype": "text/x-python",
   "name": "python",
   "nbconvert_exporter": "python",
   "pygments_lexer": "ipython3",
   "version": "3.12.4"
  }
 },
 "nbformat": 4,
 "nbformat_minor": 2
}
